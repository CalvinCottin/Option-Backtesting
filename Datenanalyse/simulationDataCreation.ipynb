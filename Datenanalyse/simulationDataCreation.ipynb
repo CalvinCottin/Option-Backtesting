{
 "cells": [
  {
   "cell_type": "code",
   "execution_count": 1,
   "metadata": {
    "collapsed": true
   },
   "outputs": [],
   "source": [
    "\n",
    "import pandas as pd\n",
    "import numpy as np\n",
    "from datetime import date, timedelta\n",
    "from numpy import random\n",
    "from random import randrange\n",
    "from random import sample\n",
    "import warnings\n",
    "from pandas.core.common import SettingWithCopyWarning\n",
    "\n",
    "warnings.simplefilter(action=\"ignore\", category=SettingWithCopyWarning)"
   ]
  },
  {
   "cell_type": "code",
   "execution_count": 2,
   "outputs": [],
   "source": [
    "def generateRandomTable(min_date, max_date, symbols, rowCount):\n",
    "\n",
    "    df = pd.DataFrame(columns =[\"startDate\",\"endDate\",\"symbols\",\"lossProfit\"])\n",
    "\n",
    "    #generate randomized start and enddates\n",
    "    time_between_dates = max_date - min_date\n",
    "    days_between_dates = time_between_dates.days\n",
    "\n",
    "    for row in range(rowCount):\n",
    "\n",
    "        random_number_of_days1 = randrange(days_between_dates)\n",
    "        random_date1 = min_date + timedelta(days=random_number_of_days1)\n",
    "        random_number_of_days2 = randrange(days_between_dates)\n",
    "        random_date2 = min_date + timedelta(days=random_number_of_days2)\n",
    "\n",
    "        #sort dates if needed\n",
    "        if random_date1 > random_date2:\n",
    "            temp = random_date1\n",
    "            random_date1 = random_date2\n",
    "            random_date2 = temp\n",
    "\n",
    "\n",
    "        symbolAdd = random.randint(1,6)\n",
    "        #sample to ensure uniquness of indizes\n",
    "        symbolAddArray = sample(range(0,5), symbolAdd)\n",
    "        symbolAddArray.sort()\n",
    "        #transfer indices to symbols\n",
    "        symbolRandomList = [ symbols[i] for i in symbolAddArray]\n",
    "\n",
    "\n",
    "        df = df.append({\"startDate\": random_date1, \"endDate\": random_date2, \"exiStrategy\": \"StopFive\", \"symbols\": symbolRandomList}, ignore_index = True)\n",
    "\n",
    "    return df"
   ],
   "metadata": {
    "collapsed": false,
    "pycharm": {
     "name": "#%%\n"
    }
   }
  },
  {
   "cell_type": "code",
   "execution_count": 3,
   "outputs": [],
   "source": [
    "#define initial values\n",
    "min_date = date(2018, 5, 5)\n",
    "max_date = date(2018, 7, 5)\n",
    "rowCount = 100\n",
    "symbols = [\"TXN\",\"TFC\",\"MCO\",\"RF\",\"NEE\"]"
   ],
   "metadata": {
    "collapsed": false,
    "pycharm": {
     "name": "#%%\n"
    }
   }
  },
  {
   "cell_type": "code",
   "execution_count": 4,
   "outputs": [
    {
     "data": {
      "text/plain": "     startDate     endDate                   symbols lossProfit exiStrategy\n0   2018-05-11  2018-06-07                 [TFC, RF]        NaN    StopFive\n1   2018-05-29  2018-06-24                     [NEE]        NaN    StopFive\n2   2018-06-06  2018-07-01                     [NEE]        NaN    StopFive\n3   2018-06-18  2018-06-30                      [RF]        NaN    StopFive\n4   2018-06-18  2018-06-19       [TFC, MCO, RF, NEE]        NaN    StopFive\n..         ...         ...                       ...        ...         ...\n95  2018-05-20  2018-05-24                     [TXN]        NaN    StopFive\n96  2018-05-24  2018-06-03           [TXN, TFC, NEE]        NaN    StopFive\n97  2018-06-03  2018-06-08  [TXN, TFC, MCO, RF, NEE]        NaN    StopFive\n98  2018-06-02  2018-06-05  [TXN, TFC, MCO, RF, NEE]        NaN    StopFive\n99  2018-05-19  2018-06-18            [TXN, MCO, RF]        NaN    StopFive\n\n[100 rows x 5 columns]",
      "text/html": "<div>\n<style scoped>\n    .dataframe tbody tr th:only-of-type {\n        vertical-align: middle;\n    }\n\n    .dataframe tbody tr th {\n        vertical-align: top;\n    }\n\n    .dataframe thead th {\n        text-align: right;\n    }\n</style>\n<table border=\"1\" class=\"dataframe\">\n  <thead>\n    <tr style=\"text-align: right;\">\n      <th></th>\n      <th>startDate</th>\n      <th>endDate</th>\n      <th>symbols</th>\n      <th>lossProfit</th>\n      <th>exiStrategy</th>\n    </tr>\n  </thead>\n  <tbody>\n    <tr>\n      <th>0</th>\n      <td>2018-05-11</td>\n      <td>2018-06-07</td>\n      <td>[TFC, RF]</td>\n      <td>NaN</td>\n      <td>StopFive</td>\n    </tr>\n    <tr>\n      <th>1</th>\n      <td>2018-05-29</td>\n      <td>2018-06-24</td>\n      <td>[NEE]</td>\n      <td>NaN</td>\n      <td>StopFive</td>\n    </tr>\n    <tr>\n      <th>2</th>\n      <td>2018-06-06</td>\n      <td>2018-07-01</td>\n      <td>[NEE]</td>\n      <td>NaN</td>\n      <td>StopFive</td>\n    </tr>\n    <tr>\n      <th>3</th>\n      <td>2018-06-18</td>\n      <td>2018-06-30</td>\n      <td>[RF]</td>\n      <td>NaN</td>\n      <td>StopFive</td>\n    </tr>\n    <tr>\n      <th>4</th>\n      <td>2018-06-18</td>\n      <td>2018-06-19</td>\n      <td>[TFC, MCO, RF, NEE]</td>\n      <td>NaN</td>\n      <td>StopFive</td>\n    </tr>\n    <tr>\n      <th>...</th>\n      <td>...</td>\n      <td>...</td>\n      <td>...</td>\n      <td>...</td>\n      <td>...</td>\n    </tr>\n    <tr>\n      <th>95</th>\n      <td>2018-05-20</td>\n      <td>2018-05-24</td>\n      <td>[TXN]</td>\n      <td>NaN</td>\n      <td>StopFive</td>\n    </tr>\n    <tr>\n      <th>96</th>\n      <td>2018-05-24</td>\n      <td>2018-06-03</td>\n      <td>[TXN, TFC, NEE]</td>\n      <td>NaN</td>\n      <td>StopFive</td>\n    </tr>\n    <tr>\n      <th>97</th>\n      <td>2018-06-03</td>\n      <td>2018-06-08</td>\n      <td>[TXN, TFC, MCO, RF, NEE]</td>\n      <td>NaN</td>\n      <td>StopFive</td>\n    </tr>\n    <tr>\n      <th>98</th>\n      <td>2018-06-02</td>\n      <td>2018-06-05</td>\n      <td>[TXN, TFC, MCO, RF, NEE]</td>\n      <td>NaN</td>\n      <td>StopFive</td>\n    </tr>\n    <tr>\n      <th>99</th>\n      <td>2018-05-19</td>\n      <td>2018-06-18</td>\n      <td>[TXN, MCO, RF]</td>\n      <td>NaN</td>\n      <td>StopFive</td>\n    </tr>\n  </tbody>\n</table>\n<p>100 rows × 5 columns</p>\n</div>"
     },
     "execution_count": 4,
     "metadata": {},
     "output_type": "execute_result"
    }
   ],
   "source": [
    "#create random table\n",
    "df1 = generateRandomTable(min_date,max_date,symbols,rowCount)\n",
    "df1"
   ],
   "metadata": {
    "collapsed": false,
    "pycharm": {
     "name": "#%%\n"
    }
   }
  },
  {
   "cell_type": "code",
   "execution_count": 7,
   "outputs": [],
   "source": [
    "#create csv\n",
    "df1.to_csv(\"simulation_data.csv\", index=False, encoding='utf-8-sig')"
   ],
   "metadata": {
    "collapsed": false,
    "pycharm": {
     "name": "#%%\n"
    }
   }
  }
 ],
 "metadata": {
  "kernelspec": {
   "display_name": "Python 3",
   "language": "python",
   "name": "python3"
  },
  "language_info": {
   "codemirror_mode": {
    "name": "ipython",
    "version": 2
   },
   "file_extension": ".py",
   "mimetype": "text/x-python",
   "name": "python",
   "nbconvert_exporter": "python",
   "pygments_lexer": "ipython2",
   "version": "2.7.6"
  }
 },
 "nbformat": 4,
 "nbformat_minor": 0
}