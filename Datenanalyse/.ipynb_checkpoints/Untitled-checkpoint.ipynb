{
 "cells": [
  {
   "cell_type": "code",
   "execution_count": 1,
   "id": "2b71a217",
   "metadata": {
    "pycharm": {
     "name": "#%%\n"
    }
   },
   "outputs": [],
   "source": [
    "import pandas as pd\n",
    "import numpy as np\n",
    "from datetime import date, timedelta"
   ]
  },
  {
   "cell_type": "code",
   "execution_count": 38,
   "id": "6a24c8ca",
   "metadata": {
    "pycharm": {
     "name": "#%%\n"
    }
   },
   "outputs": [],
   "source": [
    "class investor:\n",
    "    def __init__(self, no, capital, entryD, exitD):\n",
    "        self.no = no\n",
    "        self.capital = capital\n",
    "        self.initial = capital\n",
    "        self.entryD = entryD\n",
    "        self.exitD = exitD\n",
    "        self.assetList = {}\n",
    "        self.entryD = pd.to_datetime(np.datetime64(entryD))\n",
    "        self.exitD = pd.to_datetime(np.datetime64(exitD))\n",
    "        # i : 0 for i in self.asset\n",
    "    def work(self, df, shareno, symbol):\n",
    "        for date in df[\"Date\"]:\n",
    "            temp = df[(df.Date == date) & (df.UnderlyingSymbol == symbol)]\n",
    "            #print(temp[\"UnderlyingSymbol\"].values == symbol)\n",
    "            if ((date >= self.entryD) & (date <= self.exitD) & (temp[\"UnderlyingSymbol\"].values == symbol)):\n",
    "                #temp = df[(df.Date == date) & (df.UnderlyingSymbol == symbol)]\n",
    "                if ((temp[\"TradingPoints\"].values == \"0\") | (temp[\"TradingPoints\"].values == \"2\") | (temp[\"TradingPoints\"].values == \"1\") | (temp[\"TradingPoints\"].values == \"3\")):\n",
    "                    self.capital = self.capital - temp.Close.values*shareno\n",
    "                    self.assetList[symbol] = self.assetList[symbol] + shareno\n",
    "                    print(\"Now buying \" + str(shareno) + \" Shares\")\n",
    "                    self.getAssetList()\n",
    "                if (temp[\"TradingPoints\"].values == \"4\"):\n",
    "                    self.capital = self.capital + temp.Close.values*round(self.assetList[symbol]*0.5)\n",
    "                    print(\"Now selling \" + str(round(self.assetList[symbol]*0.5)) + \" Shares\")\n",
    "                    self.assetList[symbol] -= round(self.assetList[symbol] * 0.5)\n",
    "                    self.getAssetList()\n",
    "                if (temp[\"TradingPoints\"].values == \"5\"):\n",
    "                    self.capital = self.capital + temp.Close.values*self.assetList[symbol]\n",
    "                    self.assetList[symbol] = 0\n",
    "                    print(\"Now sold all Shares\")\n",
    "                    self.getAssetList()\n",
    "        print((self.capital-self.initial))\n",
    "\n",
    "\n",
    "    def buy(self, df, task):\n",
    "        for i in task:\n",
    "            if (i in self.assetList):\n",
    "                self.assetList[i] += task[i]\n",
    "                self.work(df, task[i], i)\n",
    "            else:\n",
    "                self.assetList[i] = 0\n",
    "                self.work(df, task[i], i)\n",
    "        print(self.capital)\n",
    "\n",
    "    def getAssetList(self):\n",
    "        for i in self.assetList:\n",
    "            print(\"The worker owns \" + str(self.assetList[i]) + \" of Asset \" + i)\n"
   ]
  },
  {
   "cell_type": "code",
   "execution_count": 212,
   "id": "13dac744",
   "metadata": {
    "pycharm": {
     "name": "#%%\n"
    }
   },
   "outputs": [],
   "source": [
    "# if(temp[\"UnderlyingSymbol\"].values == symbol):"
   ]
  },
  {
   "cell_type": "code",
   "execution_count": 231,
   "id": "296e874b",
   "metadata": {
    "pycharm": {
     "name": "#%%\n"
    }
   },
   "outputs": [],
   "source": []
  },
  {
   "cell_type": "code",
   "execution_count": 213,
   "id": "255253ef",
   "metadata": {
    "pycharm": {
     "name": "#%%\n"
    }
   },
   "outputs": [],
   "source": []
  },
  {
   "cell_type": "code",
   "execution_count": 3,
   "id": "fabf3aa0",
   "metadata": {
    "pycharm": {
     "name": "#%%\n"
    }
   },
   "outputs": [],
   "source": [
    "mco = pd.read_csv(\"../Data/MCO.csv\", index_col = \"Date\", parse_dates = True)\n",
    "nee = pd.read_csv(\"../Data/NEE.csv\", index_col = \"Date\", parse_dates = True)\n",
    "rf = pd.read_csv(\"../Data/RF.csv\", index_col = \"Date\", parse_dates = True)\n",
    "tfc = pd.read_csv(\"../Data/TFC.csv\", index_col = \"Date\", parse_dates = True)\n",
    "txn = pd.read_csv(\"../Data/TXN.csv\", index_col = \"Date\", parse_dates = True)"
   ]
  },
  {
   "cell_type": "code",
   "execution_count": 4,
   "id": "6901215a",
   "metadata": {
    "pycharm": {
     "name": "#%%\n"
    }
   },
   "outputs": [],
   "source": [
    "mco.reset_index(inplace = True)\n",
    "mco.drop(columns = [\"Unnamed: 0\"], inplace = True)\n",
    "mco[\"UnderlyingSymbol\"] = \"MCO\"\n",
    "\n",
    "nee.reset_index(inplace = True)\n",
    "nee.drop(columns = [\"Unnamed: 0\"], inplace = True)\n",
    "nee[\"UnderlyingSymbol\"] = \"NEE\"\n",
    "\n",
    "rf.reset_index(inplace = True)\n",
    "rf.drop(columns = [\"Unnamed: 0\"], inplace = True)\n",
    "rf[\"UnderlyingSymbol\"] = \"RF\"\n",
    "\n",
    "tfc.reset_index(inplace = True)\n",
    "tfc.drop(columns = [\"Unnamed: 0\"], inplace = True)\n",
    "tfc[\"UnderlyingSymbol\"] = \"TFC\"\n",
    "\n",
    "txn.reset_index(inplace = True)\n",
    "txn.drop(columns = [\"Unnamed: 0\"], inplace = True)\n",
    "txn[\"UnderlyingSymbol\"] = \"TXN\"\n"
   ]
  },
  {
   "cell_type": "code",
   "execution_count": 5,
   "id": "e468c00a",
   "metadata": {
    "pycharm": {
     "name": "#%%\n"
    }
   },
   "outputs": [],
   "source": [
    "lists = [mco, nee, rf, tfc, txn]\n",
    "symbols = pd.concat(lists)\n",
    "symbols.sort_values(\"Date\", inplace = True)"
   ]
  },
  {
   "cell_type": "code",
   "execution_count": 6,
   "outputs": [],
   "source": [
    "#symbols = symbols[symbols[\"Date\"] == pd.to_datetime(np.datetime64(\"2018-05-08\"))]\n",
    "#temp = symbols[symbols[\"UnderlyingSymbol\"] == \"MCO\"]\n",
    "#temp[\"UnderlyingSymbol\"].values[0]"
   ],
   "metadata": {
    "collapsed": false,
    "pycharm": {
     "name": "#%%\n"
    }
   }
  },
  {
   "cell_type": "code",
   "execution_count": 17,
   "id": "be63f146",
   "metadata": {
    "pycharm": {
     "name": "#%%\n"
    }
   },
   "outputs": [],
   "source": [
    "mco = mco[(mco[\"Date\"] >= np.datetime64(\"2018-05-01\", \"ns\")) & (mco[\"Date\"] <= np.datetime64('2018-07-05', \"ns\"))]"
   ]
  },
  {
   "cell_type": "code",
   "execution_count": 7,
   "id": "a44734c9",
   "metadata": {
    "scrolled": true,
    "pycharm": {
     "name": "#%%\n"
    }
   },
   "outputs": [],
   "source": [
    "symbols_e = symbols[(symbols[\"Date\"] >= np.datetime64(\"2018-05-01\", \"ns\")) & (symbols[\"Date\"] <= np.datetime64('2018-07-05', \"ns\"))]"
   ]
  },
  {
   "cell_type": "code",
   "execution_count": 8,
   "id": "3c35071f",
   "metadata": {
    "pycharm": {
     "name": "#%%\n"
    }
   },
   "outputs": [
    {
     "data": {
      "text/plain": "           Date    Open    High     Low   Close  ADXTR1  ADXPDM1  ADXMDM1  \\\n1144 2018-05-01  101.10  103.47  100.70  103.40    2.77      0.0     0.63   \n1144 2018-05-01   52.68   53.29   52.26   53.07    1.03      0.0     0.53   \n1144 2018-05-01  163.69  163.75  162.77  163.22    1.14      0.0     1.03   \n1144 2018-05-01  161.48  164.39  160.77  164.16    3.62      0.0     1.41   \n1144 2018-05-01   18.65   18.83   18.45   18.75    0.38      0.0     0.25   \n\n         ADXPDI     ADXMDI  ...           VSCP        RSI       PPO  \\\n1144  15.687524  21.523400  ...  default value  51.114299  0.277841   \n1144  20.117194  24.308521  ...  default value  51.300441  0.316259   \n1144  23.827416  14.611838  ...  default value  56.217536 -0.017427   \n1144  13.723687  22.716685  ...  default value  52.077634  0.029764   \n1144  20.128775  18.574080  ...  default value  50.383092  0.338693   \n\n      TradingPoints          ADXCP            ADX  ADXcrossinglevel  \\\n1144  default value  default value  default value     default value   \n1144  default value  default value  default value     default value   \n1144  default value  default value  default value     default value   \n1144  default value  default value  default value     default value   \n1144  default value  default value  default value     default value   \n\n            DILevel  PercentProfitOrLoss  UnderlyingSymbol  \n1144  default value        default value               TXN  \n1144  default value        default value               TFC  \n1144  default value        default value               NEE  \n1144  default value        default value               MCO  \n1144  default value        default value                RF  \n\n[5 rows x 40 columns]",
      "text/html": "<div>\n<style scoped>\n    .dataframe tbody tr th:only-of-type {\n        vertical-align: middle;\n    }\n\n    .dataframe tbody tr th {\n        vertical-align: top;\n    }\n\n    .dataframe thead th {\n        text-align: right;\n    }\n</style>\n<table border=\"1\" class=\"dataframe\">\n  <thead>\n    <tr style=\"text-align: right;\">\n      <th></th>\n      <th>Date</th>\n      <th>Open</th>\n      <th>High</th>\n      <th>Low</th>\n      <th>Close</th>\n      <th>ADXTR1</th>\n      <th>ADXPDM1</th>\n      <th>ADXMDM1</th>\n      <th>ADXPDI</th>\n      <th>ADXMDI</th>\n      <th>...</th>\n      <th>VSCP</th>\n      <th>RSI</th>\n      <th>PPO</th>\n      <th>TradingPoints</th>\n      <th>ADXCP</th>\n      <th>ADX</th>\n      <th>ADXcrossinglevel</th>\n      <th>DILevel</th>\n      <th>PercentProfitOrLoss</th>\n      <th>UnderlyingSymbol</th>\n    </tr>\n  </thead>\n  <tbody>\n    <tr>\n      <th>1144</th>\n      <td>2018-05-01</td>\n      <td>101.10</td>\n      <td>103.47</td>\n      <td>100.70</td>\n      <td>103.40</td>\n      <td>2.77</td>\n      <td>0.0</td>\n      <td>0.63</td>\n      <td>15.687524</td>\n      <td>21.523400</td>\n      <td>...</td>\n      <td>default value</td>\n      <td>51.114299</td>\n      <td>0.277841</td>\n      <td>default value</td>\n      <td>default value</td>\n      <td>default value</td>\n      <td>default value</td>\n      <td>default value</td>\n      <td>default value</td>\n      <td>TXN</td>\n    </tr>\n    <tr>\n      <th>1144</th>\n      <td>2018-05-01</td>\n      <td>52.68</td>\n      <td>53.29</td>\n      <td>52.26</td>\n      <td>53.07</td>\n      <td>1.03</td>\n      <td>0.0</td>\n      <td>0.53</td>\n      <td>20.117194</td>\n      <td>24.308521</td>\n      <td>...</td>\n      <td>default value</td>\n      <td>51.300441</td>\n      <td>0.316259</td>\n      <td>default value</td>\n      <td>default value</td>\n      <td>default value</td>\n      <td>default value</td>\n      <td>default value</td>\n      <td>default value</td>\n      <td>TFC</td>\n    </tr>\n    <tr>\n      <th>1144</th>\n      <td>2018-05-01</td>\n      <td>163.69</td>\n      <td>163.75</td>\n      <td>162.77</td>\n      <td>163.22</td>\n      <td>1.14</td>\n      <td>0.0</td>\n      <td>1.03</td>\n      <td>23.827416</td>\n      <td>14.611838</td>\n      <td>...</td>\n      <td>default value</td>\n      <td>56.217536</td>\n      <td>-0.017427</td>\n      <td>default value</td>\n      <td>default value</td>\n      <td>default value</td>\n      <td>default value</td>\n      <td>default value</td>\n      <td>default value</td>\n      <td>NEE</td>\n    </tr>\n    <tr>\n      <th>1144</th>\n      <td>2018-05-01</td>\n      <td>161.48</td>\n      <td>164.39</td>\n      <td>160.77</td>\n      <td>164.16</td>\n      <td>3.62</td>\n      <td>0.0</td>\n      <td>1.41</td>\n      <td>13.723687</td>\n      <td>22.716685</td>\n      <td>...</td>\n      <td>default value</td>\n      <td>52.077634</td>\n      <td>0.029764</td>\n      <td>default value</td>\n      <td>default value</td>\n      <td>default value</td>\n      <td>default value</td>\n      <td>default value</td>\n      <td>default value</td>\n      <td>MCO</td>\n    </tr>\n    <tr>\n      <th>1144</th>\n      <td>2018-05-01</td>\n      <td>18.65</td>\n      <td>18.83</td>\n      <td>18.45</td>\n      <td>18.75</td>\n      <td>0.38</td>\n      <td>0.0</td>\n      <td>0.25</td>\n      <td>20.128775</td>\n      <td>18.574080</td>\n      <td>...</td>\n      <td>default value</td>\n      <td>50.383092</td>\n      <td>0.338693</td>\n      <td>default value</td>\n      <td>default value</td>\n      <td>default value</td>\n      <td>default value</td>\n      <td>default value</td>\n      <td>default value</td>\n      <td>RF</td>\n    </tr>\n  </tbody>\n</table>\n<p>5 rows × 40 columns</p>\n</div>"
     },
     "execution_count": 8,
     "metadata": {},
     "output_type": "execute_result"
    }
   ],
   "source": [
    "symbols_e.head()"
   ]
  },
  {
   "cell_type": "code",
   "execution_count": 39,
   "id": "11d2516e",
   "metadata": {
    "pycharm": {
     "name": "#%%\n"
    }
   },
   "outputs": [],
   "source": [
    "tester = investor(1, 10000, \"2018-05-08\", \"2018-05-30\")"
   ]
  },
  {
   "cell_type": "code",
   "execution_count": 40,
   "id": "d4414c2a",
   "metadata": {
    "pycharm": {
     "name": "#%%\n"
    }
   },
   "outputs": [
    {
     "name": "stdout",
     "output_type": "stream",
     "text": [
      "Now buying 10 Shares\n",
      "The worker owns 10 of Asset MCO\n",
      "Now buying 10 Shares\n",
      "The worker owns 20 of Asset MCO\n",
      "Now buying 10 Shares\n",
      "The worker owns 30 of Asset MCO\n",
      "Now buying 10 Shares\n",
      "The worker owns 40 of Asset MCO\n",
      "Now buying 10 Shares\n",
      "The worker owns 50 of Asset MCO\n",
      "Now selling 25 Shares\n",
      "The worker owns 25 of Asset MCO\n",
      "Now selling 12 Shares\n",
      "The worker owns 13 of Asset MCO\n",
      "Now selling 6 Shares\n",
      "The worker owns 7 of Asset MCO\n",
      "Now selling 4 Shares\n",
      "The worker owns 3 of Asset MCO\n",
      "Now selling 2 Shares\n",
      "The worker owns 1 of Asset MCO\n",
      "Now sold all Shares\n",
      "The worker owns 0 of Asset MCO\n",
      "Now sold all Shares\n",
      "The worker owns 0 of Asset MCO\n",
      "Now sold all Shares\n",
      "The worker owns 0 of Asset MCO\n",
      "Now sold all Shares\n",
      "The worker owns 0 of Asset MCO\n",
      "Now sold all Shares\n",
      "The worker owns 0 of Asset MCO\n",
      "Now buying 10 Shares\n",
      "The worker owns 10 of Asset MCO\n",
      "Now buying 10 Shares\n",
      "The worker owns 20 of Asset MCO\n",
      "Now buying 10 Shares\n",
      "The worker owns 30 of Asset MCO\n",
      "Now buying 10 Shares\n",
      "The worker owns 40 of Asset MCO\n",
      "Now buying 10 Shares\n",
      "The worker owns 50 of Asset MCO\n",
      "Now selling 25 Shares\n",
      "The worker owns 25 of Asset MCO\n",
      "Now selling 12 Shares\n",
      "The worker owns 13 of Asset MCO\n",
      "Now selling 6 Shares\n",
      "The worker owns 7 of Asset MCO\n",
      "Now selling 4 Shares\n",
      "The worker owns 3 of Asset MCO\n",
      "Now selling 2 Shares\n",
      "The worker owns 1 of Asset MCO\n",
      "Now sold all Shares\n",
      "The worker owns 0 of Asset MCO\n",
      "Now sold all Shares\n",
      "The worker owns 0 of Asset MCO\n",
      "Now sold all Shares\n",
      "The worker owns 0 of Asset MCO\n",
      "Now sold all Shares\n",
      "The worker owns 0 of Asset MCO\n",
      "Now sold all Shares\n",
      "The worker owns 0 of Asset MCO\n",
      "[-48.69]\n",
      "Now buying 5 Shares\n",
      "The worker owns 0 of Asset MCO\n",
      "The worker owns 5 of Asset RF\n",
      "Now buying 5 Shares\n",
      "The worker owns 0 of Asset MCO\n",
      "The worker owns 10 of Asset RF\n",
      "Now buying 5 Shares\n",
      "The worker owns 0 of Asset MCO\n",
      "The worker owns 15 of Asset RF\n",
      "Now buying 5 Shares\n",
      "The worker owns 0 of Asset MCO\n",
      "The worker owns 20 of Asset RF\n",
      "Now buying 5 Shares\n",
      "The worker owns 0 of Asset MCO\n",
      "The worker owns 25 of Asset RF\n",
      "Now selling 12 Shares\n",
      "The worker owns 0 of Asset MCO\n",
      "The worker owns 13 of Asset RF\n",
      "Now selling 6 Shares\n",
      "The worker owns 0 of Asset MCO\n",
      "The worker owns 7 of Asset RF\n",
      "Now selling 4 Shares\n",
      "The worker owns 0 of Asset MCO\n",
      "The worker owns 3 of Asset RF\n",
      "Now selling 2 Shares\n",
      "The worker owns 0 of Asset MCO\n",
      "The worker owns 1 of Asset RF\n",
      "Now selling 0 Shares\n",
      "The worker owns 0 of Asset MCO\n",
      "The worker owns 1 of Asset RF\n",
      "Now sold all Shares\n",
      "The worker owns 0 of Asset MCO\n",
      "The worker owns 0 of Asset RF\n",
      "Now sold all Shares\n",
      "The worker owns 0 of Asset MCO\n",
      "The worker owns 0 of Asset RF\n",
      "Now sold all Shares\n",
      "The worker owns 0 of Asset MCO\n",
      "The worker owns 0 of Asset RF\n",
      "Now sold all Shares\n",
      "The worker owns 0 of Asset MCO\n",
      "The worker owns 0 of Asset RF\n",
      "Now sold all Shares\n",
      "The worker owns 0 of Asset MCO\n",
      "The worker owns 0 of Asset RF\n",
      "Now buying 5 Shares\n",
      "The worker owns 0 of Asset MCO\n",
      "The worker owns 5 of Asset RF\n",
      "Now buying 5 Shares\n",
      "The worker owns 0 of Asset MCO\n",
      "The worker owns 10 of Asset RF\n",
      "Now buying 5 Shares\n",
      "The worker owns 0 of Asset MCO\n",
      "The worker owns 15 of Asset RF\n",
      "Now buying 5 Shares\n",
      "The worker owns 0 of Asset MCO\n",
      "The worker owns 20 of Asset RF\n",
      "Now buying 5 Shares\n",
      "The worker owns 0 of Asset MCO\n",
      "The worker owns 25 of Asset RF\n",
      "Now selling 12 Shares\n",
      "The worker owns 0 of Asset MCO\n",
      "The worker owns 13 of Asset RF\n",
      "Now selling 6 Shares\n",
      "The worker owns 0 of Asset MCO\n",
      "The worker owns 7 of Asset RF\n",
      "Now selling 4 Shares\n",
      "The worker owns 0 of Asset MCO\n",
      "The worker owns 3 of Asset RF\n",
      "Now selling 2 Shares\n",
      "The worker owns 0 of Asset MCO\n",
      "The worker owns 1 of Asset RF\n",
      "Now selling 0 Shares\n",
      "The worker owns 0 of Asset MCO\n",
      "The worker owns 1 of Asset RF\n",
      "Now buying 5 Shares\n",
      "The worker owns 0 of Asset MCO\n",
      "The worker owns 6 of Asset RF\n",
      "Now buying 5 Shares\n",
      "The worker owns 0 of Asset MCO\n",
      "The worker owns 11 of Asset RF\n",
      "Now buying 5 Shares\n",
      "The worker owns 0 of Asset MCO\n",
      "The worker owns 16 of Asset RF\n",
      "Now buying 5 Shares\n",
      "The worker owns 0 of Asset MCO\n",
      "The worker owns 21 of Asset RF\n",
      "Now buying 5 Shares\n",
      "The worker owns 0 of Asset MCO\n",
      "The worker owns 26 of Asset RF\n",
      "[-535.77]\n",
      "[9464.23]\n",
      "The worker owns 0 of Asset MCO\n",
      "The worker owns 26 of Asset RF\n"
     ]
    }
   ],
   "source": [
    "#tester.work(symbols_e, 8, \"TFC\")\n",
    "tester.buy( symbols_e, {\"MCO\": 10, \"RF\": 5})\n",
    "tester.getAssetList()"
   ]
  },
  {
   "cell_type": "code",
   "execution_count": null,
   "id": "3e34638f",
   "metadata": {
    "pycharm": {
     "name": "#%%\n"
    }
   },
   "outputs": [],
   "source": []
  },
  {
   "cell_type": "code",
   "execution_count": 25,
   "id": "5c331d21",
   "metadata": {
    "pycharm": {
     "name": "#%%\n"
    }
   },
   "outputs": [],
   "source": [
    "optex = pd.read_csv(\"Data/optex.csv\")"
   ]
  },
  {
   "cell_type": "code",
   "execution_count": 26,
   "id": "08c5fd18",
   "metadata": {
    "scrolled": true,
    "pycharm": {
     "name": "#%%\n"
    }
   },
   "outputs": [
    {
     "data": {
      "text/html": [
       "<div>\n",
       "<style scoped>\n",
       "    .dataframe tbody tr th:only-of-type {\n",
       "        vertical-align: middle;\n",
       "    }\n",
       "\n",
       "    .dataframe tbody tr th {\n",
       "        vertical-align: top;\n",
       "    }\n",
       "\n",
       "    .dataframe thead th {\n",
       "        text-align: right;\n",
       "    }\n",
       "</style>\n",
       "<table border=\"1\" class=\"dataframe\">\n",
       "  <thead>\n",
       "    <tr style=\"text-align: right;\">\n",
       "      <th></th>\n",
       "      <th>UnderlyingSymbol</th>\n",
       "      <th>UnderlyingPrice</th>\n",
       "      <th>Exchange</th>\n",
       "      <th>OptionRoot</th>\n",
       "      <th>OptionExt</th>\n",
       "      <th>Type</th>\n",
       "      <th>Expiration</th>\n",
       "      <th>DataDate</th>\n",
       "      <th>Strike</th>\n",
       "      <th>Last</th>\n",
       "      <th>Bid</th>\n",
       "      <th>Ask</th>\n",
       "      <th>Volume</th>\n",
       "      <th>OpenInterest</th>\n",
       "      <th>T1OpenInterest</th>\n",
       "    </tr>\n",
       "  </thead>\n",
       "  <tbody>\n",
       "    <tr>\n",
       "      <th>0</th>\n",
       "      <td>A</td>\n",
       "      <td>62.78</td>\n",
       "      <td>*</td>\n",
       "      <td>A180615C00050000</td>\n",
       "      <td>NaN</td>\n",
       "      <td>call</td>\n",
       "      <td>06/15/2018</td>\n",
       "      <td>06/01/2018</td>\n",
       "      <td>50.0</td>\n",
       "      <td>12.00</td>\n",
       "      <td>12.80</td>\n",
       "      <td>12.95</td>\n",
       "      <td>0</td>\n",
       "      <td>5</td>\n",
       "      <td>5</td>\n",
       "    </tr>\n",
       "    <tr>\n",
       "      <th>1</th>\n",
       "      <td>A</td>\n",
       "      <td>62.78</td>\n",
       "      <td>*</td>\n",
       "      <td>A180615P00050000</td>\n",
       "      <td>NaN</td>\n",
       "      <td>put</td>\n",
       "      <td>06/15/2018</td>\n",
       "      <td>06/01/2018</td>\n",
       "      <td>50.0</td>\n",
       "      <td>0.01</td>\n",
       "      <td>0.00</td>\n",
       "      <td>0.03</td>\n",
       "      <td>0</td>\n",
       "      <td>1</td>\n",
       "      <td>1</td>\n",
       "    </tr>\n",
       "    <tr>\n",
       "      <th>2</th>\n",
       "      <td>A</td>\n",
       "      <td>62.78</td>\n",
       "      <td>*</td>\n",
       "      <td>A180615C00055000</td>\n",
       "      <td>NaN</td>\n",
       "      <td>call</td>\n",
       "      <td>06/15/2018</td>\n",
       "      <td>06/01/2018</td>\n",
       "      <td>55.0</td>\n",
       "      <td>0.00</td>\n",
       "      <td>7.70</td>\n",
       "      <td>9.45</td>\n",
       "      <td>0</td>\n",
       "      <td>0</td>\n",
       "      <td>0</td>\n",
       "    </tr>\n",
       "    <tr>\n",
       "      <th>3</th>\n",
       "      <td>A</td>\n",
       "      <td>62.78</td>\n",
       "      <td>*</td>\n",
       "      <td>A180615P00055000</td>\n",
       "      <td>NaN</td>\n",
       "      <td>put</td>\n",
       "      <td>06/15/2018</td>\n",
       "      <td>06/01/2018</td>\n",
       "      <td>55.0</td>\n",
       "      <td>0.09</td>\n",
       "      <td>0.02</td>\n",
       "      <td>0.09</td>\n",
       "      <td>0</td>\n",
       "      <td>126</td>\n",
       "      <td>126</td>\n",
       "    </tr>\n",
       "    <tr>\n",
       "      <th>4</th>\n",
       "      <td>A</td>\n",
       "      <td>62.78</td>\n",
       "      <td>*</td>\n",
       "      <td>A180615C00057500</td>\n",
       "      <td>NaN</td>\n",
       "      <td>call</td>\n",
       "      <td>06/15/2018</td>\n",
       "      <td>06/01/2018</td>\n",
       "      <td>57.5</td>\n",
       "      <td>5.15</td>\n",
       "      <td>5.20</td>\n",
       "      <td>5.60</td>\n",
       "      <td>0</td>\n",
       "      <td>19</td>\n",
       "      <td>19</td>\n",
       "    </tr>\n",
       "  </tbody>\n",
       "</table>\n",
       "</div>"
      ],
      "text/plain": [
       "  UnderlyingSymbol  UnderlyingPrice Exchange        OptionRoot  OptionExt  \\\n",
       "0                A            62.78        *  A180615C00050000        NaN   \n",
       "1                A            62.78        *  A180615P00050000        NaN   \n",
       "2                A            62.78        *  A180615C00055000        NaN   \n",
       "3                A            62.78        *  A180615P00055000        NaN   \n",
       "4                A            62.78        *  A180615C00057500        NaN   \n",
       "\n",
       "   Type  Expiration    DataDate  Strike   Last    Bid    Ask  Volume  \\\n",
       "0  call  06/15/2018  06/01/2018    50.0  12.00  12.80  12.95       0   \n",
       "1   put  06/15/2018  06/01/2018    50.0   0.01   0.00   0.03       0   \n",
       "2  call  06/15/2018  06/01/2018    55.0   0.00   7.70   9.45       0   \n",
       "3   put  06/15/2018  06/01/2018    55.0   0.09   0.02   0.09       0   \n",
       "4  call  06/15/2018  06/01/2018    57.5   5.15   5.20   5.60       0   \n",
       "\n",
       "   OpenInterest  T1OpenInterest  \n",
       "0             5               5  \n",
       "1             1               1  \n",
       "2             0               0  \n",
       "3           126             126  \n",
       "4            19              19  "
      ]
     },
     "execution_count": 26,
     "metadata": {},
     "output_type": "execute_result"
    }
   ],
   "source": [
    "optex.head()"
   ]
  },
  {
   "cell_type": "code",
   "execution_count": 27,
   "id": "92ad0fdf",
   "metadata": {
    "pycharm": {
     "name": "#%%\n"
    }
   },
   "outputs": [
    {
     "name": "stdout",
     "output_type": "stream",
     "text": [
      "<class 'pandas.core.frame.DataFrame'>\n",
      "RangeIndex: 898316 entries, 0 to 898315\n",
      "Data columns (total 15 columns):\n",
      " #   Column            Non-Null Count   Dtype  \n",
      "---  ------            --------------   -----  \n",
      " 0   UnderlyingSymbol  898316 non-null  object \n",
      " 1   UnderlyingPrice   898316 non-null  float64\n",
      " 2   Exchange          898316 non-null  object \n",
      " 3   OptionRoot        898316 non-null  object \n",
      " 4   OptionExt         0 non-null       float64\n",
      " 5   Type              898316 non-null  object \n",
      " 6   Expiration        898316 non-null  object \n",
      " 7   DataDate          898316 non-null  object \n",
      " 8   Strike            898316 non-null  float64\n",
      " 9   Last              898316 non-null  float64\n",
      " 10  Bid               898316 non-null  float64\n",
      " 11  Ask               898316 non-null  float64\n",
      " 12  Volume            898316 non-null  int64  \n",
      " 13  OpenInterest      898316 non-null  int64  \n",
      " 14  T1OpenInterest    898316 non-null  int64  \n",
      "dtypes: float64(6), int64(3), object(6)\n",
      "memory usage: 102.8+ MB\n"
     ]
    }
   ],
   "source": [
    "optex.info()"
   ]
  },
  {
   "cell_type": "code",
   "execution_count": 28,
   "id": "f53903f8",
   "metadata": {
    "pycharm": {
     "name": "#%%\n"
    }
   },
   "outputs": [
    {
     "data": {
      "text/plain": [
       "array(['A', 'AA', 'AABA', ..., 'ZUO', 'ZX', 'ZYNE'], dtype=object)"
      ]
     },
     "execution_count": 28,
     "metadata": {},
     "output_type": "execute_result"
    }
   ],
   "source": [
    "optex[\"UnderlyingSymbol\"].unique()"
   ]
  },
  {
   "cell_type": "code",
   "execution_count": 35,
   "id": "5100fad5",
   "metadata": {
    "pycharm": {
     "name": "#%%\n"
    }
   },
   "outputs": [],
   "source": [
    "optexScoped = optex[(optex[\"UnderlyingSymbol\"] == \"MCO\") & (optex[\"Type\"] == \"call\")]"
   ]
  },
  {
   "cell_type": "code",
   "execution_count": 1,
   "id": "4efe3682",
   "metadata": {
    "pycharm": {
     "name": "#%%\n"
    }
   },
   "outputs": [
    {
     "ename": "NameError",
     "evalue": "name 'optexScoped' is not defined",
     "output_type": "error",
     "traceback": [
      "\u001B[0;31m---------------------------------------------------------------------------\u001B[0m",
      "\u001B[0;31mNameError\u001B[0m                                 Traceback (most recent call last)",
      "\u001B[0;32m<ipython-input-1-97a4538c87db>\u001B[0m in \u001B[0;36m<module>\u001B[0;34m\u001B[0m\n\u001B[0;32m----> 1\u001B[0;31m \u001B[0moptexScoped\u001B[0m\u001B[0;34m\u001B[0m\u001B[0;34m\u001B[0m\u001B[0m\n\u001B[0m",
      "\u001B[0;31mNameError\u001B[0m: name 'optexScoped' is not defined"
     ]
    }
   ],
   "source": [
    "optexScoped"
   ]
  },
  {
   "cell_type": "code",
   "execution_count": null,
   "id": "f501bdbf",
   "metadata": {
    "pycharm": {
     "name": "#%%\n"
    }
   },
   "outputs": [],
   "source": []
  }
 ],
 "metadata": {
  "kernelspec": {
   "display_name": "Python 3",
   "language": "python",
   "name": "python3"
  },
  "language_info": {
   "codemirror_mode": {
    "name": "ipython",
    "version": 3
   },
   "file_extension": ".py",
   "mimetype": "text/x-python",
   "name": "python",
   "nbconvert_exporter": "python",
   "pygments_lexer": "ipython3",
   "version": "3.8.2"
  }
 },
 "nbformat": 4,
 "nbformat_minor": 5
}